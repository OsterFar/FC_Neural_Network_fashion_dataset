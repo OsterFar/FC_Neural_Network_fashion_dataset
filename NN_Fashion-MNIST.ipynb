{
 "cells": [
  {
   "cell_type": "markdown",
   "source": [
    "# Classifier fc nn to predict the DRESS (shirt , t-shirt , trouser etc )"
   ],
   "metadata": {}
  },
  {
   "cell_type": "markdown",
   "source": [
    "## loading the data "
   ],
   "metadata": {}
  },
  {
   "cell_type": "code",
   "execution_count": 1,
   "source": [
    "import torch\r\n",
    "from torchvision import datasets, transforms\r\n",
    "import helper\r\n",
    "\r\n",
    "# Define a transform to normalize the data\r\n",
    "transform = transforms.Compose([transforms.ToTensor(),\r\n",
    "                                transforms.Normalize((0.5,), (0.5,))])\r\n",
    "# Download and load the training data\r\n",
    "trainset = datasets.FashionMNIST('~/.pytorch/F_MNIST_data/', download=True, train=True, transform=transform)\r\n",
    "trainloader = torch.utils.data.DataLoader(trainset, batch_size=64, shuffle=True)\r\n",
    "\r\n",
    "# Download and load the test data\r\n",
    "testset = datasets.FashionMNIST('~/.pytorch/F_MNIST_data/', download=True, train=False, transform=transform)\r\n",
    "testloader = torch.utils.data.DataLoader(testset, batch_size=64, shuffle=True)"
   ],
   "outputs": [
    {
     "output_type": "stream",
     "name": "stdout",
     "text": [
      "Downloading http://fashion-mnist.s3-website.eu-central-1.amazonaws.com/train-images-idx3-ubyte.gz\n",
      "Downloading http://fashion-mnist.s3-website.eu-central-1.amazonaws.com/train-images-idx3-ubyte.gz to C:\\Users\\LEO/.pytorch/F_MNIST_data/FashionMNIST\\raw\\train-images-idx3-ubyte.gz\n"
     ]
    },
    {
     "output_type": "stream",
     "name": "stderr",
     "text": [
      "26422272it [00:30, 860086.99it/s]                              \n"
     ]
    },
    {
     "output_type": "stream",
     "name": "stdout",
     "text": [
      "Extracting C:\\Users\\LEO/.pytorch/F_MNIST_data/FashionMNIST\\raw\\train-images-idx3-ubyte.gz to C:\\Users\\LEO/.pytorch/F_MNIST_data/FashionMNIST\\raw\n",
      "\n",
      "Downloading http://fashion-mnist.s3-website.eu-central-1.amazonaws.com/train-labels-idx1-ubyte.gz\n",
      "Downloading http://fashion-mnist.s3-website.eu-central-1.amazonaws.com/train-labels-idx1-ubyte.gz to C:\\Users\\LEO/.pytorch/F_MNIST_data/FashionMNIST\\raw\\train-labels-idx1-ubyte.gz\n"
     ]
    },
    {
     "output_type": "stream",
     "name": "stderr",
     "text": [
      "29696it [00:00, 99179.56it/s]                           \n"
     ]
    },
    {
     "output_type": "stream",
     "name": "stdout",
     "text": [
      "Extracting C:\\Users\\LEO/.pytorch/F_MNIST_data/FashionMNIST\\raw\\train-labels-idx1-ubyte.gz to C:\\Users\\LEO/.pytorch/F_MNIST_data/FashionMNIST\\raw\n",
      "\n",
      "Downloading http://fashion-mnist.s3-website.eu-central-1.amazonaws.com/t10k-images-idx3-ubyte.gz\n",
      "Downloading http://fashion-mnist.s3-website.eu-central-1.amazonaws.com/t10k-images-idx3-ubyte.gz to C:\\Users\\LEO/.pytorch/F_MNIST_data/FashionMNIST\\raw\\t10k-images-idx3-ubyte.gz\n"
     ]
    },
    {
     "output_type": "stream",
     "name": "stderr",
     "text": [
      "4422656it [00:13, 333766.04it/s]                             \n"
     ]
    },
    {
     "output_type": "stream",
     "name": "stdout",
     "text": [
      "Extracting C:\\Users\\LEO/.pytorch/F_MNIST_data/FashionMNIST\\raw\\t10k-images-idx3-ubyte.gz to C:\\Users\\LEO/.pytorch/F_MNIST_data/FashionMNIST\\raw\n",
      "\n",
      "Downloading http://fashion-mnist.s3-website.eu-central-1.amazonaws.com/t10k-labels-idx1-ubyte.gz\n",
      "Downloading http://fashion-mnist.s3-website.eu-central-1.amazonaws.com/t10k-labels-idx1-ubyte.gz to C:\\Users\\LEO/.pytorch/F_MNIST_data/FashionMNIST\\raw\\t10k-labels-idx1-ubyte.gz\n"
     ]
    },
    {
     "output_type": "stream",
     "name": "stderr",
     "text": [
      "6144it [00:00, 1361177.04it/s]          "
     ]
    },
    {
     "output_type": "stream",
     "name": "stdout",
     "text": [
      "Extracting C:\\Users\\LEO/.pytorch/F_MNIST_data/FashionMNIST\\raw\\t10k-labels-idx1-ubyte.gz to C:\\Users\\LEO/.pytorch/F_MNIST_data/FashionMNIST\\raw\n",
      "\n"
     ]
    },
    {
     "output_type": "stream",
     "name": "stderr",
     "text": [
      "\n",
      "C:\\Users\\LEO\\anaconda3\\lib\\site-packages\\torchvision\\datasets\\mnist.py:498: UserWarning: The given NumPy array is not writeable, and PyTorch does not support non-writeable tensors. This means you can write to the underlying (supposedly non-writeable) NumPy array using the tensor. You may want to copy the array to protect its data or make it writeable before converting it to a tensor. This type of warning will be suppressed for the rest of this program. (Triggered internally at  ..\\torch\\csrc\\utils\\tensor_numpy.cpp:180.)\n",
      "  return torch.from_numpy(parsed.astype(m[2], copy=False)).view(*s)\n"
     ]
    }
   ],
   "metadata": {}
  },
  {
   "cell_type": "markdown",
   "source": [
    "Here we can see one of the images."
   ],
   "metadata": {}
  },
  {
   "cell_type": "code",
   "execution_count": 5,
   "source": [
    "image, label = next(iter(trainloader))\r\n",
    "helper.imshow(image[0,:]);"
   ],
   "outputs": [
    {
     "output_type": "display_data",
     "data": {
      "text/plain": [
       "<Figure size 432x288 with 1 Axes>"
      ],
      "image/svg+xml": "<?xml version=\"1.0\" encoding=\"utf-8\" standalone=\"no\"?>\r\n<!DOCTYPE svg PUBLIC \"-//W3C//DTD SVG 1.1//EN\"\r\n  \"http://www.w3.org/Graphics/SVG/1.1/DTD/svg11.dtd\">\r\n<!-- Created with matplotlib (https://matplotlib.org/) -->\r\n<svg height=\"231.84pt\" version=\"1.1\" viewBox=\"0 0 231.84 231.84\" width=\"231.84pt\" xmlns=\"http://www.w3.org/2000/svg\" xmlns:xlink=\"http://www.w3.org/1999/xlink\">\r\n <metadata>\r\n  <rdf:RDF xmlns:cc=\"http://creativecommons.org/ns#\" xmlns:dc=\"http://purl.org/dc/elements/1.1/\" xmlns:rdf=\"http://www.w3.org/1999/02/22-rdf-syntax-ns#\">\r\n   <cc:Work>\r\n    <dc:type rdf:resource=\"http://purl.org/dc/dcmitype/StillImage\"/>\r\n    <dc:date>2021-08-28T22:20:09.252489</dc:date>\r\n    <dc:format>image/svg+xml</dc:format>\r\n    <dc:creator>\r\n     <cc:Agent>\r\n      <dc:title>Matplotlib v3.3.4, https://matplotlib.org/</dc:title>\r\n     </cc:Agent>\r\n    </dc:creator>\r\n   </cc:Work>\r\n  </rdf:RDF>\r\n </metadata>\r\n <defs>\r\n  <style type=\"text/css\">*{stroke-linecap:butt;stroke-linejoin:round;}</style>\r\n </defs>\r\n <g id=\"figure_1\">\r\n  <g id=\"patch_1\">\r\n   <path d=\"M 0 231.84 \r\nL 231.84 231.84 \r\nL 231.84 0 \r\nL 0 0 \r\nz\r\n\" style=\"fill:none;\"/>\r\n  </g>\r\n  <g id=\"axes_1\">\r\n   <g id=\"patch_2\">\r\n    <path d=\"M 7.2 224.64 \r\nL 224.64 224.64 \r\nL 224.64 7.2 \r\nL 7.2 7.2 \r\nz\r\n\" style=\"fill:#ffffff;\"/>\r\n   </g>\r\n   <g clip-path=\"url(#p5506c21a28)\">\r\n    <image height=\"218\" id=\"image117f42894c\" transform=\"scale(1 -1)translate(0 -218)\" width=\"218\" x=\"7.2\" xlink:href=\"data:image/png;base64,\r\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\" y=\"-6.64\"/>\r\n   </g>\r\n   <g id=\"matplotlib.axis_1\">\r\n    <g id=\"xtick_1\">\r\n     <g id=\"line2d_1\"/>\r\n    </g>\r\n    <g id=\"xtick_2\">\r\n     <g id=\"line2d_2\"/>\r\n    </g>\r\n    <g id=\"xtick_3\">\r\n     <g id=\"line2d_3\"/>\r\n    </g>\r\n    <g id=\"xtick_4\">\r\n     <g id=\"line2d_4\"/>\r\n    </g>\r\n    <g id=\"xtick_5\">\r\n     <g id=\"line2d_5\"/>\r\n    </g>\r\n    <g id=\"xtick_6\">\r\n     <g id=\"line2d_6\"/>\r\n    </g>\r\n   </g>\r\n   <g id=\"matplotlib.axis_2\">\r\n    <g id=\"ytick_1\">\r\n     <g id=\"line2d_7\"/>\r\n    </g>\r\n    <g id=\"ytick_2\">\r\n     <g id=\"line2d_8\"/>\r\n    </g>\r\n    <g id=\"ytick_3\">\r\n     <g id=\"line2d_9\"/>\r\n    </g>\r\n    <g id=\"ytick_4\">\r\n     <g id=\"line2d_10\"/>\r\n    </g>\r\n    <g id=\"ytick_5\">\r\n     <g id=\"line2d_11\"/>\r\n    </g>\r\n    <g id=\"ytick_6\">\r\n     <g id=\"line2d_12\"/>\r\n    </g>\r\n   </g>\r\n  </g>\r\n </g>\r\n <defs>\r\n  <clipPath id=\"p5506c21a28\">\r\n   <rect height=\"217.44\" width=\"217.44\" x=\"7.2\" y=\"7.2\"/>\r\n  </clipPath>\r\n </defs>\r\n</svg>\r\n",
      "image/png": "[encoded data removed]"
     },
     "metadata": {
      "needs_background": "light"
     }
    }
   ],
   "metadata": {}
  },
  {
   "cell_type": "markdown",
   "source": [
    "## building the Network classifier class "
   ],
   "metadata": {}
  },
  {
   "cell_type": "code",
   "execution_count": 20,
   "source": [
    "import torch\r\n",
    "from torch import nn , optim\r\n",
    "import torch.nn.functional as F\r\n",
    "\r\n",
    "\r\n",
    "class Classifier (nn.Module) :\r\n",
    "    def __init__(self) :\r\n",
    "        \r\n",
    "        super().__init__()\r\n",
    "        self.fc1  = nn.Linear(784 , 256 )\r\n",
    "        self.fc2  = nn.Linear(256,128 )\r\n",
    "        self.fc3 =  nn.Linear(128,64)\r\n",
    "        self.fc4 = nn.Linear(64,10)\r\n",
    "        \r\n",
    "    def forward(self,x) :\r\n",
    "        #first make the input image flattern \r\n",
    "        \r\n",
    "        x = x.view(x.shape[0], -1)\r\n",
    "    \r\n",
    "        relu1 = F.relu(self.fc1(x))\r\n",
    "        relu2 = F.relu(self.fc2(relu1))\r\n",
    "        relu3 = F.relu(self.fc3(relu2))\r\n",
    "        ret = F.log_softmax(self.fc4(relu3) ,  dim = 1 )\r\n",
    "        return ret \r\n",
    "        \r\n",
    "    \r\n",
    "\r\n"
   ],
   "outputs": [],
   "metadata": {}
  },
  {
   "cell_type": "code",
   "execution_count": 21,
   "source": [
    "#model , loss function and optimizier \r\n",
    "model = Classifier()\r\n",
    "criterion = nn.NLLLoss()\r\n",
    "Optimizer =  optim.Adam(model.parameters() , lr=0.003)\r\n",
    "\r\n"
   ],
   "outputs": [],
   "metadata": {}
  },
  {
   "cell_type": "markdown",
   "source": [
    "## Training the Network from here "
   ],
   "metadata": {}
  },
  {
   "cell_type": "code",
   "execution_count": 23,
   "source": [
    "#defining no of epohs \r\n",
    "Epohs = 5 \r\n",
    "\r\n",
    "for i in range( Epohs ) :\r\n",
    "    running_loss  =  0\r\n",
    "    for image,label in  trainloader :\r\n",
    "\r\n",
    "        #forward\r\n",
    "        logit = model.forward(image )\r\n",
    "        loss =  criterion(logit, label)\r\n",
    "        \r\n",
    "        #clear the tensor optimizier \r\n",
    "        Optimizer.zero_grad()\r\n",
    "        \r\n",
    "        #backward\r\n",
    "        loss.backward()\r\n",
    "        \r\n",
    "        #update the weight values .....\r\n",
    "        \r\n",
    "        Optimizer.step()\r\n",
    "        \r\n",
    "        #Summing the loss values ..\r\n",
    "        running_loss += loss.item()\r\n",
    "        \r\n",
    "    else :\r\n",
    "        print(\"Prediction loss\", running_loss / len(trainloader))\r\n",
    "        \r\n",
    "        "
   ],
   "outputs": [
    {
     "output_type": "stream",
     "name": "stdout",
     "text": [
      "Prediction loss 0.2996980904150746\n",
      "Prediction loss 0.29193064318632267\n",
      "Prediction loss 0.2806408320948767\n",
      "Prediction loss 0.2749015721700974\n",
      "Prediction loss 0.2650873799965199\n"
     ]
    }
   ],
   "metadata": {}
  },
  {
   "cell_type": "markdown",
   "source": [
    "## Predicting "
   ],
   "metadata": {}
  },
  {
   "cell_type": "code",
   "execution_count": 25,
   "source": [
    "%matplotlib inline\r\n",
    "%config InlineBackend.figure_format = 'retina'\r\n",
    "\r\n",
    "import helper\r\n",
    "\r\n",
    "\r\n",
    "dataiter = iter(testloader)\r\n",
    "images, labels = dataiter.next()\r\n",
    "img = images[0]\r\n",
    "\r\n",
    "# Convert 2D image to 1D vector\r\n",
    "img = img.resize_(1, 784)\r\n",
    "\r\n",
    "# Output of the network are log-probabilities, need to take exponential for probabilities\r\n",
    "with torch.no_grad() :\r\n",
    "    logits = model.forward(img)\r\n",
    "ps = torch.exp(logits)\r\n",
    "\r\n",
    "# Plot the image and probabilities\r\n",
    "helper.view_classify(img.resize_(1, 28, 28), ps, version='Fashion')"
   ],
   "outputs": [
    {
     "output_type": "display_data",
     "data": {
      "text/plain": [
       "<Figure size 432x648 with 2 Axes>"
      ],
      "image/png": "[encoded data removed]"
     },
     "metadata": {
      "image/png": {
       "width": 424,
       "height": 216
      },
      "needs_background": "light"
     }
    }
   ],
   "metadata": {}
  },
  {
   "cell_type": "code",
   "execution_count": null,
   "source": [],
   "outputs": [],
   "metadata": {}
  }
 ],
 "metadata": {
  "kernelspec": {
   "name": "python3",
   "display_name": "Python 3.8.8 64-bit ('base': conda)"
  },
  "language_info": {
   "codemirror_mode": {
    "name": "ipython",
    "version": 3
   },
   "file_extension": ".py",
   "mimetype": "text/x-python",
   "name": "python",
   "nbconvert_exporter": "python",
   "pygments_lexer": "ipython3",
   "version": "3.8.8"
  },
  "interpreter": {
   "hash": "2fe5a1c0987c38fb98acca3434e75dbb42ce11c367dd50e8d3b02dffad865b25"
  }
 },
 "nbformat": 4,
 "nbformat_minor": 2
}